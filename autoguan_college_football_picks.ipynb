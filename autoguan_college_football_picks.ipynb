{
  "nbformat": 4,
  "nbformat_minor": 0,
  "metadata": {
    "colab": {
      "name": "autoguan college football picks.ipynb",
      "provenance": [],
      "collapsed_sections": [],
      "authorship_tag": "ABX9TyNdMgb7CPTIoMuSwtSFqlvw",
      "include_colab_link": true
    },
    "kernelspec": {
      "name": "python3",
      "display_name": "Python 3"
    }
  },
  "cells": [
    {
      "cell_type": "markdown",
      "metadata": {
        "id": "view-in-github",
        "colab_type": "text"
      },
      "source": [
        "<a href=\"https://colab.research.google.com/github/gardnmi/Notebooks/blob/master/autoguan_college_football_picks.ipynb\" target=\"_parent\"><img src=\"https://colab.research.google.com/assets/colab-badge.svg\" alt=\"Open In Colab\"/></a>"
      ]
    },
    {
      "cell_type": "code",
      "metadata": {
        "id": "Dn9NUiyAbs3X",
        "colab_type": "code",
        "colab": {}
      },
      "source": [
        "!pip install autogluon\n",
        "!pip install mxnet"
      ],
      "execution_count": null,
      "outputs": []
    },
    {
      "cell_type": "code",
      "metadata": {
        "id": "OaUtxHKTbwT3",
        "colab_type": "code",
        "colab": {}
      },
      "source": [
        "!pip install -U ipykernel"
      ],
      "execution_count": null,
      "outputs": []
    },
    {
      "cell_type": "code",
      "metadata": {
        "id": "lOJlkk_YbxKH",
        "colab_type": "code",
        "colab": {}
      },
      "source": [
        "import autogluon as ag\n",
        "from autogluon import TabularPrediction as task"
      ],
      "execution_count": 3,
      "outputs": []
    },
    {
      "cell_type": "code",
      "metadata": {
        "id": "d42jjn00coTz",
        "colab_type": "code",
        "colab": {
          "base_uri": "https://localhost:8080/",
          "height": 34
        },
        "outputId": "03b24719-0adc-43bf-d61b-f720b5c76651"
      },
      "source": [
        "drop_columns = ['spread_result', 'pre_game_spread' , 'pre_game_home_win_prob', 'pre_game_away_win_prob']\n",
        "\n",
        "train_data = task.Dataset(file_path='train.csv')\n",
        "train_data = train_data.drop(drop_columns, axis=1) # use for regression\n",
        "# train_data = train_data.drop('spread_target', axis=1) # use for classifier"
      ],
      "execution_count": 81,
      "outputs": [
        {
          "output_type": "stream",
          "text": [
            "Loaded data from: train.csv | Columns = 434 / 434 | Rows = 4729 -> 4729\n"
          ],
          "name": "stderr"
        }
      ]
    },
    {
      "cell_type": "code",
      "metadata": {
        "id": "aX8C91dTe9pb",
        "colab_type": "code",
        "colab": {}
      },
      "source": [
        "# label_column = 'spread_result' # use for classifier\n",
        "label_column = 'spread_target' # use for regression"
      ],
      "execution_count": 82,
      "outputs": []
    },
    {
      "cell_type": "code",
      "metadata": {
        "id": "OA7Zl-EOf8qp",
        "colab_type": "code",
        "colab": {
          "base_uri": "https://localhost:8080/",
          "height": 1000
        },
        "outputId": "ad9e9a20-a550-442e-8be7-43902633176d"
      },
      "source": [
        "predictor = task.fit(train_data=train_data, label=label_column, problem_type = 'regression')"
      ],
      "execution_count": 60,
      "outputs": [
        {
          "output_type": "stream",
          "text": [
            "No output_directory specified. Models will be saved in: AutogluonModels/ag-20200919_045034/\n",
            "Beginning AutoGluon training ...\n",
            "AutoGluon will save models to AutogluonModels/ag-20200919_045034/\n",
            "AutoGluon Version:  0.0.13\n",
            "Train Data Rows:    4729\n",
            "Train Data Columns: 430\n",
            "Preprocessing data ...\n",
            "Feature Generator processed 4729 data points with 429 features\n",
            "Original Features (raw dtypes):\n",
            "\tint64 features: 4\n",
            "\tobject features: 7\n",
            "\tbool features: 2\n",
            "\tfloat64 features: 416\n",
            "Original Features (inferred dtypes):\n",
            "\tint features: 4\n",
            "\tobject features: 6\n",
            "\tdatetime features: 1\n",
            "\tbool features: 2\n",
            "\tfloat features: 416\n",
            "Generated Features (special dtypes):\n",
            "\tdatetime features: 1\n",
            "Processed Features (raw dtypes):\n",
            "\tint features: 5\n",
            "\tbool features: 2\n",
            "\tfloat features: 416\n",
            "\tcategory features: 6\n",
            "Processed Features:\n",
            "\tdatetime features: 1\n",
            "\tint features: 4\n",
            "\tbool features: 2\n",
            "\tfloat features: 416\n",
            "\tcategory features: 6\n",
            "\tData preprocessing and feature engineering runtime = 1.07s ...\n",
            "AutoGluon will gauge predictive performance using evaluation metric: root_mean_squared_error\n",
            "To change this, specify the eval_metric argument of fit()\n",
            "AutoGluon will early stop models using evaluation metric: root_mean_squared_error\n",
            "Fitting model: RandomForestRegressorMSE ...\n",
            "\t-17.5367\t = Validation root_mean_squared_error score\n",
            "\t204.56s\t = Training runtime\n",
            "\t0.18s\t = Validation runtime\n",
            "Fitting model: ExtraTreesRegressorMSE ...\n",
            "\t-17.1818\t = Validation root_mean_squared_error score\n",
            "\t91.53s\t = Training runtime\n",
            "\t0.18s\t = Validation runtime\n",
            "Fitting model: KNeighborsRegressorUnif ...\n",
            "\t-22.9461\t = Validation root_mean_squared_error score\n",
            "\t0.38s\t = Training runtime\n",
            "\t0.12s\t = Validation runtime\n",
            "Fitting model: KNeighborsRegressorDist ...\n",
            "\t-24.891\t = Validation root_mean_squared_error score\n",
            "\t0.4s\t = Training runtime\n",
            "\t0.12s\t = Validation runtime\n",
            "Fitting model: LightGBMRegressor ...\n",
            "\t-17.4826\t = Validation root_mean_squared_error score\n",
            "\t18.71s\t = Training runtime\n",
            "\t0.09s\t = Validation runtime\n",
            "Fitting model: CatboostRegressor ...\n",
            "\t-17.1217\t = Validation root_mean_squared_error score\n",
            "\t26.41s\t = Training runtime\n",
            "\t0.1s\t = Validation runtime\n",
            "Fitting model: NeuralNetRegressor ...\n",
            "\t-18.6982\t = Validation root_mean_squared_error score\n",
            "\t84.29s\t = Training runtime\n",
            "\t0.17s\t = Validation runtime\n",
            "Fitting model: LightGBMRegressorCustom ...\n"
          ],
          "name": "stderr"
        },
        {
          "output_type": "stream",
          "text": [
            "[1000]\ttrain_set's rmse: 0.00112501\tvalid_set's rmse: 16.9777\n"
          ],
          "name": "stdout"
        },
        {
          "output_type": "stream",
          "text": [
            "\t-16.9776\t = Validation root_mean_squared_error score\n",
            "\t657.87s\t = Training runtime\n",
            "\t0.38s\t = Validation runtime\n",
            "Fitting model: weighted_ensemble_k0_l1 ...\n",
            "\t-16.5285\t = Validation root_mean_squared_error score\n",
            "\t0.55s\t = Training runtime\n",
            "\t0.0s\t = Validation runtime\n",
            "AutoGluon training complete, total runtime = 1091.79s ...\n"
          ],
          "name": "stderr"
        }
      ]
    },
    {
      "cell_type": "code",
      "metadata": {
        "id": "DWk8WzBmgiZW",
        "colab_type": "code",
        "colab": {
          "base_uri": "https://localhost:8080/",
          "height": 34
        },
        "outputId": "4f435bfd-b2aa-48d8-d982-7cfe7080d62f"
      },
      "source": [
        "drop_columns = ['spread_result', 'pre_game_spread' , 'pre_game_home_win_prob', 'pre_game_away_win_prob']\n",
        "\n",
        "test_data = task.Dataset(file_path='test.csv')\n",
        "y_test = test_data[label_column] \n",
        "test_data = test_data.drop(drop_columns, axis=1) # use for regression"
      ],
      "execution_count": 83,
      "outputs": [
        {
          "output_type": "stream",
          "text": [
            "Loaded data from: test.csv | Columns = 434 / 434 | Rows = 879 -> 879\n"
          ],
          "name": "stderr"
        }
      ]
    },
    {
      "cell_type": "code",
      "metadata": {
        "id": "OWSfg0JChQ2f",
        "colab_type": "code",
        "colab": {
          "base_uri": "https://localhost:8080/",
          "height": 202
        },
        "outputId": "5599d37a-cdaa-4757-bdb6-fce65fdb743b"
      },
      "source": [
        "y_train_pred = predictor.predict(train_data)\n",
        "y_test_pred = predictor.predict(test_data)\n",
        "\n",
        "perf = predictor.evaluate_predictions(y_true=y_test, y_pred=y_test_pred, auxiliary_metrics=True)"
      ],
      "execution_count": 84,
      "outputs": [
        {
          "output_type": "stream",
          "text": [
            "Evaluation: root_mean_squared_error on test data: 17.970572602799994\n",
            "Evaluations on test data:\n",
            "{\n",
            "    \"root_mean_squared_error\": 17.970572602799994,\n",
            "    \"mean_absolute_error\": 14.22694264626103,\n",
            "    \"explained_variance_score\": 0.3882426486045142,\n",
            "    \"r2_score\": 0.3861712472265425,\n",
            "    \"pearson_correlation\": 0.6252474772398675,\n",
            "    \"mean_squared_error\": 322.9414796725056,\n",
            "    \"median_absolute_error\": 11.1981201171875\n",
            "}\n"
          ],
          "name": "stderr"
        }
      ]
    },
    {
      "cell_type": "code",
      "metadata": {
        "id": "17EE2w1mhl9v",
        "colab_type": "code",
        "colab": {
          "base_uri": "https://localhost:8080/",
          "height": 34
        },
        "outputId": "8755b953-b841-4484-eb60-29260bf0027f"
      },
      "source": [
        "drop_columns = ['spread_target', 'pre_game_spread' , 'pre_game_home_win_prob', 'pre_game_away_win_prob']\n",
        "\n",
        "train_data = task.Dataset(file_path='train.csv')\n",
        "train_data = train_data.drop(drop_columns, axis=1) # use for classifier\n",
        "train_data = pd.concat([train_data, pd.Series(y_train_pred, name='spread_pred')], axis=1)"
      ],
      "execution_count": 87,
      "outputs": [
        {
          "output_type": "stream",
          "text": [
            "Loaded data from: train.csv | Columns = 434 / 434 | Rows = 4729 -> 4729\n"
          ],
          "name": "stderr"
        }
      ]
    },
    {
      "cell_type": "code",
      "metadata": {
        "id": "ubRJY_izoptJ",
        "colab_type": "code",
        "colab": {}
      },
      "source": [
        "label_column = 'spread_result' # use for classifier"
      ],
      "execution_count": 88,
      "outputs": []
    },
    {
      "cell_type": "code",
      "metadata": {
        "id": "yrAblA5Eor29",
        "colab_type": "code",
        "colab": {
          "base_uri": "https://localhost:8080/",
          "height": 1000
        },
        "outputId": "bd136fcb-331b-4032-e38d-afb38ae43a36"
      },
      "source": [
        "predictor = task.fit(train_data=train_data, label=label_column, problem_type = 'binary')"
      ],
      "execution_count": 89,
      "outputs": [
        {
          "output_type": "stream",
          "text": [
            "No output_directory specified. Models will be saved in: AutogluonModels/ag-20200919_051800/\n",
            "Beginning AutoGluon training ...\n",
            "AutoGluon will save models to AutogluonModels/ag-20200919_051800/\n",
            "AutoGluon Version:  0.0.13\n",
            "Train Data Rows:    4729\n",
            "Train Data Columns: 431\n",
            "Preprocessing data ...\n",
            "Selected class <--> label mapping:  class 1 = Away, class 0 = Home\n",
            "Train Data Class Count: 2\n",
            "Feature Generator processed 4729 data points with 430 features\n",
            "Original Features (raw dtypes):\n",
            "\tint64 features: 4\n",
            "\tobject features: 7\n",
            "\tbool features: 2\n",
            "\tfloat64 features: 416\n",
            "\tfloat32 features: 1\n",
            "Original Features (inferred dtypes):\n",
            "\tint features: 4\n",
            "\tobject features: 6\n",
            "\tdatetime features: 1\n",
            "\tbool features: 2\n",
            "\tfloat features: 417\n",
            "Generated Features (special dtypes):\n",
            "\tdatetime features: 1\n",
            "Processed Features (raw dtypes):\n",
            "\tint features: 5\n",
            "\tbool features: 2\n",
            "\tfloat features: 417\n",
            "\tcategory features: 6\n",
            "Processed Features:\n",
            "\tdatetime features: 1\n",
            "\tint features: 4\n",
            "\tbool features: 2\n",
            "\tfloat features: 417\n",
            "\tcategory features: 6\n",
            "\tData preprocessing and feature engineering runtime = 1.09s ...\n",
            "AutoGluon will gauge predictive performance using evaluation metric: accuracy\n",
            "To change this, specify the eval_metric argument of fit()\n",
            "AutoGluon will early stop models using evaluation metric: accuracy\n",
            "Fitting model: RandomForestClassifierGini ...\n",
            "\t0.726\t = Validation accuracy score\n",
            "\t11.64s\t = Training runtime\n",
            "\t0.29s\t = Validation runtime\n",
            "Fitting model: RandomForestClassifierEntr ...\n",
            "\t0.704\t = Validation accuracy score\n",
            "\t19.86s\t = Training runtime\n",
            "\t0.18s\t = Validation runtime\n",
            "Fitting model: ExtraTreesClassifierGini ...\n",
            "\t0.668\t = Validation accuracy score\n",
            "\t4.72s\t = Training runtime\n",
            "\t0.28s\t = Validation runtime\n",
            "Fitting model: ExtraTreesClassifierEntr ...\n",
            "\t0.678\t = Validation accuracy score\n",
            "\t5.61s\t = Training runtime\n",
            "\t0.28s\t = Validation runtime\n",
            "Fitting model: KNeighborsClassifierUnif ...\n",
            "\t0.51\t = Validation accuracy score\n",
            "\t0.32s\t = Training runtime\n",
            "\t0.12s\t = Validation runtime\n",
            "Fitting model: KNeighborsClassifierDist ...\n",
            "\t0.468\t = Validation accuracy score\n",
            "\t0.33s\t = Training runtime\n",
            "\t0.12s\t = Validation runtime\n",
            "Fitting model: LightGBMClassifier ...\n",
            "\t0.788\t = Validation accuracy score\n",
            "\t20.69s\t = Training runtime\n",
            "\t0.09s\t = Validation runtime\n",
            "Fitting model: CatboostClassifier ...\n",
            "\t0.816\t = Validation accuracy score\n",
            "\t34.74s\t = Training runtime\n",
            "\t0.09s\t = Validation runtime\n",
            "Fitting model: NeuralNetClassifier ...\n",
            "\t0.692\t = Validation accuracy score\n",
            "\t59.5s\t = Training runtime\n",
            "\t0.17s\t = Validation runtime\n",
            "Fitting model: LightGBMClassifierCustom ...\n",
            "\t0.786\t = Validation accuracy score\n",
            "\t88.25s\t = Training runtime\n",
            "\t0.1s\t = Validation runtime\n",
            "Fitting model: weighted_ensemble_k0_l1 ...\n",
            "\t0.816\t = Validation accuracy score\n",
            "\t0.62s\t = Training runtime\n",
            "\t0.0s\t = Validation runtime\n",
            "AutoGluon training complete, total runtime = 251.97s ...\n"
          ],
          "name": "stderr"
        }
      ]
    },
    {
      "cell_type": "code",
      "metadata": {
        "id": "jkWzn4rqpcKs",
        "colab_type": "code",
        "colab": {
          "base_uri": "https://localhost:8080/",
          "height": 655
        },
        "outputId": "48f9bb59-4a82-474a-96a2-dd911fe5d7b4"
      },
      "source": [
        "drop_columns = ['spread_target', 'pre_game_spread' , 'pre_game_home_win_prob', 'pre_game_away_win_prob']\n",
        "\n",
        "test_data = task.Dataset(file_path='test.csv')\n",
        "y_test = test_data[label_column] \n",
        "\n",
        "test_data = test_data.drop(drop_columns, axis=1) # use for classifier\n",
        "test_data = pd.concat([test_data, pd.Series(y_test_pred, name='spread_pred')], axis=1)\n",
        "\n",
        "y_test_pred = predictor.predict(test_data)\n",
        "perf = predictor.evaluate_predictions(y_true=y_test, y_pred=y_test_pred, auxiliary_metrics=True)"
      ],
      "execution_count": 90,
      "outputs": [
        {
          "output_type": "stream",
          "text": [
            "Loaded data from: test.csv | Columns = 434 / 434 | Rows = 879 -> 879\n",
            "Evaluation: accuracy on test data: 0.49715585893060293\n",
            "Evaluations on test data:\n",
            "{\n",
            "    \"accuracy\": 0.49715585893060293,\n",
            "    \"accuracy_score\": 0.49715585893060293,\n",
            "    \"balanced_accuracy_score\": 0.4994769224395094,\n",
            "    \"matthews_corrcoef\": -0.0010774626957728971,\n",
            "    \"f1_score\": 0.49715585893060293\n",
            "}\n",
            "Detailed (per-class) classification report:\n",
            "{\n",
            "    \"Away\": {\n",
            "        \"precision\": 0.48990825688073397,\n",
            "        \"recall\": 0.6194895591647331,\n",
            "        \"f1-score\": 0.5471311475409836,\n",
            "        \"support\": 431\n",
            "    },\n",
            "    \"Home\": {\n",
            "        \"precision\": 0.5089820359281437,\n",
            "        \"recall\": 0.3794642857142857,\n",
            "        \"f1-score\": 0.43478260869565216,\n",
            "        \"support\": 448\n",
            "    },\n",
            "    \"accuracy\": 0.49715585893060293,\n",
            "    \"macro avg\": {\n",
            "        \"precision\": 0.4994451464044388,\n",
            "        \"recall\": 0.4994769224395094,\n",
            "        \"f1-score\": 0.4909568781183179,\n",
            "        \"support\": 879\n",
            "    },\n",
            "    \"weighted avg\": {\n",
            "        \"precision\": 0.49962959136678586,\n",
            "        \"recall\": 0.49715585893060293,\n",
            "        \"f1-score\": 0.4898704588007009,\n",
            "        \"support\": 879\n",
            "    }\n",
            "}\n"
          ],
          "name": "stderr"
        }
      ]
    },
    {
      "cell_type": "code",
      "metadata": {
        "id": "l0tq34bZyaSB",
        "colab_type": "code",
        "colab": {}
      },
      "source": [
        ""
      ],
      "execution_count": null,
      "outputs": []
    }
  ]
}