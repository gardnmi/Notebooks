{
 "cells": [
  {
   "cell_type": "code",
   "execution_count": 1,
   "metadata": {},
   "outputs": [],
   "source": [
    "import pandas as pd"
   ]
  },
  {
   "cell_type": "code",
   "execution_count": 2,
   "metadata": {},
   "outputs": [
    {
     "data": {
      "text/html": [
       "<div>\n",
       "<style scoped>\n",
       "    .dataframe tbody tr th:only-of-type {\n",
       "        vertical-align: middle;\n",
       "    }\n",
       "\n",
       "    .dataframe tbody tr th {\n",
       "        vertical-align: top;\n",
       "    }\n",
       "\n",
       "    .dataframe thead th {\n",
       "        text-align: right;\n",
       "    }\n",
       "</style>\n",
       "<table border=\"1\" class=\"dataframe\">\n",
       "  <thead>\n",
       "    <tr style=\"text-align: right;\">\n",
       "      <th></th>\n",
       "      <th>RANK THIS WEEK</th>\n",
       "      <th>RANK LAST WEEK</th>\n",
       "      <th>PLAYER NAME</th>\n",
       "      <th>ROUNDS</th>\n",
       "      <th>AVG.</th>\n",
       "      <th>TOTAL DISTANCE</th>\n",
       "      <th>TOTAL DRIVES</th>\n",
       "    </tr>\n",
       "  </thead>\n",
       "  <tbody>\n",
       "    <tr>\n",
       "      <th>0</th>\n",
       "      <td>1</td>\n",
       "      <td>1</td>\n",
       "      <td>Rory McIlroy</td>\n",
       "      <td>64</td>\n",
       "      <td>319.7</td>\n",
       "      <td>39000</td>\n",
       "      <td>122</td>\n",
       "    </tr>\n",
       "    <tr>\n",
       "      <th>1</th>\n",
       "      <td>2</td>\n",
       "      <td>2</td>\n",
       "      <td>Trey Mullinax</td>\n",
       "      <td>75</td>\n",
       "      <td>318.3</td>\n",
       "      <td>43929</td>\n",
       "      <td>138</td>\n",
       "    </tr>\n",
       "    <tr>\n",
       "      <th>2</th>\n",
       "      <td>3</td>\n",
       "      <td>3</td>\n",
       "      <td>Tom Lovelady</td>\n",
       "      <td>87</td>\n",
       "      <td>315.9</td>\n",
       "      <td>51168</td>\n",
       "      <td>162</td>\n",
       "    </tr>\n",
       "    <tr>\n",
       "      <th>3</th>\n",
       "      <td>4</td>\n",
       "      <td>4</td>\n",
       "      <td>Tony Finau</td>\n",
       "      <td>105</td>\n",
       "      <td>315.1</td>\n",
       "      <td>56721</td>\n",
       "      <td>180</td>\n",
       "    </tr>\n",
       "    <tr>\n",
       "      <th>4</th>\n",
       "      <td>5</td>\n",
       "      <td>5</td>\n",
       "      <td>Luke List</td>\n",
       "      <td>98</td>\n",
       "      <td>314.6</td>\n",
       "      <td>54746</td>\n",
       "      <td>174</td>\n",
       "    </tr>\n",
       "  </tbody>\n",
       "</table>\n",
       "</div>"
      ],
      "text/plain": [
       "  RANK THIS WEEK RANK LAST WEEK    PLAYER NAME  ROUNDS   AVG.  TOTAL DISTANCE  \\\n",
       "0              1              1   Rory McIlroy      64  319.7           39000   \n",
       "1              2              2  Trey Mullinax      75  318.3           43929   \n",
       "2              3              3   Tom Lovelady      87  315.9           51168   \n",
       "3              4              4     Tony Finau     105  315.1           56721   \n",
       "4              5              5      Luke List      98  314.6           54746   \n",
       "\n",
       "   TOTAL DRIVES  \n",
       "0           122  \n",
       "1           138  \n",
       "2           162  \n",
       "3           180  \n",
       "4           174  "
      ]
     },
     "execution_count": 2,
     "metadata": {},
     "output_type": "execute_result"
    }
   ],
   "source": [
    "# Import Driving Data\n",
    "\n",
    "tables = pd.read_html('https://www.pgatour.com/stats/stat.101.2018.html')\n",
    "drives = tables[1]\n",
    "drives.head()"
   ]
  },
  {
   "cell_type": "code",
   "execution_count": 3,
   "metadata": {},
   "outputs": [
    {
     "data": {
      "text/plain": [
       "296.63626943005187"
      ]
     },
     "execution_count": 3,
     "metadata": {},
     "output_type": "execute_result"
    }
   ],
   "source": [
    "drives['AVG.'].mean()"
   ]
  },
  {
   "cell_type": "code",
   "execution_count": 4,
   "metadata": {},
   "outputs": [
    {
     "data": {
      "text/plain": [
       "8.144855902778724"
      ]
     },
     "execution_count": 4,
     "metadata": {},
     "output_type": "execute_result"
    }
   ],
   "source": [
    "drives['AVG.'].std()"
   ]
  },
  {
   "cell_type": "code",
   "execution_count": 5,
   "metadata": {},
   "outputs": [
    {
     "data": {
      "text/html": [
       "<div>\n",
       "<style scoped>\n",
       "    .dataframe tbody tr th:only-of-type {\n",
       "        vertical-align: middle;\n",
       "    }\n",
       "\n",
       "    .dataframe tbody tr th {\n",
       "        vertical-align: top;\n",
       "    }\n",
       "\n",
       "    .dataframe thead th {\n",
       "        text-align: right;\n",
       "    }\n",
       "</style>\n",
       "<table border=\"1\" class=\"dataframe\">\n",
       "  <thead>\n",
       "    <tr style=\"text-align: right;\">\n",
       "      <th></th>\n",
       "      <th>RANK THIS WEEK</th>\n",
       "      <th>RANK LAST WEEK</th>\n",
       "      <th>PLAYER NAME</th>\n",
       "      <th>EVENTS</th>\n",
       "      <th>TOTAL</th>\n",
       "    </tr>\n",
       "  </thead>\n",
       "  <tbody>\n",
       "    <tr>\n",
       "      <th>0</th>\n",
       "      <td>1</td>\n",
       "      <td>1</td>\n",
       "      <td>Dustin Johnson</td>\n",
       "      <td>20</td>\n",
       "      <td>206</td>\n",
       "    </tr>\n",
       "    <tr>\n",
       "      <th>1</th>\n",
       "      <td>2</td>\n",
       "      <td>2</td>\n",
       "      <td>Tommy Fleetwood</td>\n",
       "      <td>19</td>\n",
       "      <td>234</td>\n",
       "    </tr>\n",
       "    <tr>\n",
       "      <th>2</th>\n",
       "      <td>3</td>\n",
       "      <td>3</td>\n",
       "      <td>Justin Thomas</td>\n",
       "      <td>23</td>\n",
       "      <td>243</td>\n",
       "    </tr>\n",
       "    <tr>\n",
       "      <th>3</th>\n",
       "      <td>4</td>\n",
       "      <td>4</td>\n",
       "      <td>Rickie Fowler</td>\n",
       "      <td>20</td>\n",
       "      <td>264</td>\n",
       "    </tr>\n",
       "    <tr>\n",
       "      <th>4</th>\n",
       "      <td>5</td>\n",
       "      <td>5</td>\n",
       "      <td>Justin Rose</td>\n",
       "      <td>18</td>\n",
       "      <td>280</td>\n",
       "    </tr>\n",
       "  </tbody>\n",
       "</table>\n",
       "</div>"
      ],
      "text/plain": [
       "  RANK THIS WEEK RANK LAST WEEK      PLAYER NAME  EVENTS  TOTAL\n",
       "0              1              1   Dustin Johnson      20    206\n",
       "1              2              2  Tommy Fleetwood      19    234\n",
       "2              3              3    Justin Thomas      23    243\n",
       "3              4              4    Rickie Fowler      20    264\n",
       "4              5              5      Justin Rose      18    280"
      ]
     },
     "execution_count": 5,
     "metadata": {},
     "output_type": "execute_result"
    }
   ],
   "source": [
    "# Import PGA Rank Data\n",
    "\n",
    "tables = pd.read_html('https://www.pgatour.com/stats/stat.127.2018.html')\n",
    "ranks = tables[1]\n",
    "\n",
    "ranks.head()"
   ]
  },
  {
   "cell_type": "code",
   "execution_count": 6,
   "metadata": {},
   "outputs": [],
   "source": [
    "# (Optional) Rename Columns and Grab Needed Columns\n",
    "\n",
    "drives = drives.rename(columns={'RANK THIS WEEK':'AVG DRIVER DISTANCE RANK', 'AVG.':'AVG DRIVE'})\n",
    "drives = drives[['PLAYER NAME', 'AVG DRIVER DISTANCE RANK', 'AVG DRIVE']]\n",
    "\n",
    "ranks = ranks.rename(columns={'RANK THIS WEEK':'PGA RANK'})\n",
    "ranks = ranks[['PLAYER NAME', 'PGA RANK']]"
   ]
  },
  {
   "cell_type": "code",
   "execution_count": 7,
   "metadata": {},
   "outputs": [
    {
     "data": {
      "text/html": [
       "<div>\n",
       "<style scoped>\n",
       "    .dataframe tbody tr th:only-of-type {\n",
       "        vertical-align: middle;\n",
       "    }\n",
       "\n",
       "    .dataframe tbody tr th {\n",
       "        vertical-align: top;\n",
       "    }\n",
       "\n",
       "    .dataframe thead th {\n",
       "        text-align: right;\n",
       "    }\n",
       "</style>\n",
       "<table border=\"1\" class=\"dataframe\">\n",
       "  <thead>\n",
       "    <tr style=\"text-align: right;\">\n",
       "      <th></th>\n",
       "      <th>PLAYER NAME</th>\n",
       "      <th>AVG DRIVER DISTANCE RANK</th>\n",
       "      <th>AVG DRIVE</th>\n",
       "    </tr>\n",
       "  </thead>\n",
       "  <tbody>\n",
       "    <tr>\n",
       "      <th>0</th>\n",
       "      <td>Rory McIlroy</td>\n",
       "      <td>1</td>\n",
       "      <td>319.7</td>\n",
       "    </tr>\n",
       "    <tr>\n",
       "      <th>1</th>\n",
       "      <td>Trey Mullinax</td>\n",
       "      <td>2</td>\n",
       "      <td>318.3</td>\n",
       "    </tr>\n",
       "    <tr>\n",
       "      <th>2</th>\n",
       "      <td>Tom Lovelady</td>\n",
       "      <td>3</td>\n",
       "      <td>315.9</td>\n",
       "    </tr>\n",
       "    <tr>\n",
       "      <th>3</th>\n",
       "      <td>Tony Finau</td>\n",
       "      <td>4</td>\n",
       "      <td>315.1</td>\n",
       "    </tr>\n",
       "    <tr>\n",
       "      <th>4</th>\n",
       "      <td>Luke List</td>\n",
       "      <td>5</td>\n",
       "      <td>314.6</td>\n",
       "    </tr>\n",
       "  </tbody>\n",
       "</table>\n",
       "</div>"
      ],
      "text/plain": [
       "     PLAYER NAME AVG DRIVER DISTANCE RANK  AVG DRIVE\n",
       "0   Rory McIlroy                        1      319.7\n",
       "1  Trey Mullinax                        2      318.3\n",
       "2   Tom Lovelady                        3      315.9\n",
       "3     Tony Finau                        4      315.1\n",
       "4      Luke List                        5      314.6"
      ]
     },
     "execution_count": 7,
     "metadata": {},
     "output_type": "execute_result"
    }
   ],
   "source": [
    "drives.head()"
   ]
  },
  {
   "cell_type": "code",
   "execution_count": 8,
   "metadata": {},
   "outputs": [
    {
     "data": {
      "text/html": [
       "<div>\n",
       "<style scoped>\n",
       "    .dataframe tbody tr th:only-of-type {\n",
       "        vertical-align: middle;\n",
       "    }\n",
       "\n",
       "    .dataframe tbody tr th {\n",
       "        vertical-align: top;\n",
       "    }\n",
       "\n",
       "    .dataframe thead th {\n",
       "        text-align: right;\n",
       "    }\n",
       "</style>\n",
       "<table border=\"1\" class=\"dataframe\">\n",
       "  <thead>\n",
       "    <tr style=\"text-align: right;\">\n",
       "      <th></th>\n",
       "      <th>PLAYER NAME</th>\n",
       "      <th>PGA RANK</th>\n",
       "    </tr>\n",
       "  </thead>\n",
       "  <tbody>\n",
       "    <tr>\n",
       "      <th>0</th>\n",
       "      <td>Dustin Johnson</td>\n",
       "      <td>1</td>\n",
       "    </tr>\n",
       "    <tr>\n",
       "      <th>1</th>\n",
       "      <td>Tommy Fleetwood</td>\n",
       "      <td>2</td>\n",
       "    </tr>\n",
       "    <tr>\n",
       "      <th>2</th>\n",
       "      <td>Justin Thomas</td>\n",
       "      <td>3</td>\n",
       "    </tr>\n",
       "    <tr>\n",
       "      <th>3</th>\n",
       "      <td>Rickie Fowler</td>\n",
       "      <td>4</td>\n",
       "    </tr>\n",
       "    <tr>\n",
       "      <th>4</th>\n",
       "      <td>Justin Rose</td>\n",
       "      <td>5</td>\n",
       "    </tr>\n",
       "  </tbody>\n",
       "</table>\n",
       "</div>"
      ],
      "text/plain": [
       "       PLAYER NAME PGA RANK\n",
       "0   Dustin Johnson        1\n",
       "1  Tommy Fleetwood        2\n",
       "2    Justin Thomas        3\n",
       "3    Rickie Fowler        4\n",
       "4      Justin Rose        5"
      ]
     },
     "execution_count": 8,
     "metadata": {},
     "output_type": "execute_result"
    }
   ],
   "source": [
    "ranks.head()"
   ]
  },
  {
   "cell_type": "code",
   "execution_count": 9,
   "metadata": {},
   "outputs": [],
   "source": [
    "df = pd.merge(ranks, drives, how='inner', on='PLAYER NAME', validate='one_to_one')\n",
    "\n",
    "# Alternative Method to check if Key Columns are unique\n",
    "# ranks['PLAYER NAME'].is_unique and drives['PLAYER NAME'].is_unique"
   ]
  },
  {
   "cell_type": "code",
   "execution_count": 10,
   "metadata": {},
   "outputs": [
    {
     "data": {
      "text/html": [
       "<div>\n",
       "<style scoped>\n",
       "    .dataframe tbody tr th:only-of-type {\n",
       "        vertical-align: middle;\n",
       "    }\n",
       "\n",
       "    .dataframe tbody tr th {\n",
       "        vertical-align: top;\n",
       "    }\n",
       "\n",
       "    .dataframe thead th {\n",
       "        text-align: right;\n",
       "    }\n",
       "</style>\n",
       "<table border=\"1\" class=\"dataframe\">\n",
       "  <thead>\n",
       "    <tr style=\"text-align: right;\">\n",
       "      <th></th>\n",
       "      <th>PLAYER NAME</th>\n",
       "      <th>PGA RANK</th>\n",
       "      <th>AVG DRIVER DISTANCE RANK</th>\n",
       "      <th>AVG DRIVE</th>\n",
       "    </tr>\n",
       "  </thead>\n",
       "  <tbody>\n",
       "    <tr>\n",
       "      <th>0</th>\n",
       "      <td>Dustin Johnson</td>\n",
       "      <td>1</td>\n",
       "      <td>6</td>\n",
       "      <td>314.0</td>\n",
       "    </tr>\n",
       "    <tr>\n",
       "      <th>1</th>\n",
       "      <td>Tommy Fleetwood</td>\n",
       "      <td>2</td>\n",
       "      <td>23</td>\n",
       "      <td>306.9</td>\n",
       "    </tr>\n",
       "    <tr>\n",
       "      <th>2</th>\n",
       "      <td>Justin Thomas</td>\n",
       "      <td>3</td>\n",
       "      <td>11</td>\n",
       "      <td>311.8</td>\n",
       "    </tr>\n",
       "    <tr>\n",
       "      <th>3</th>\n",
       "      <td>Rickie Fowler</td>\n",
       "      <td>4</td>\n",
       "      <td>T61</td>\n",
       "      <td>299.8</td>\n",
       "    </tr>\n",
       "    <tr>\n",
       "      <th>4</th>\n",
       "      <td>Justin Rose</td>\n",
       "      <td>5</td>\n",
       "      <td>T34</td>\n",
       "      <td>303.5</td>\n",
       "    </tr>\n",
       "  </tbody>\n",
       "</table>\n",
       "</div>"
      ],
      "text/plain": [
       "       PLAYER NAME PGA RANK AVG DRIVER DISTANCE RANK  AVG DRIVE\n",
       "0   Dustin Johnson        1                        6      314.0\n",
       "1  Tommy Fleetwood        2                       23      306.9\n",
       "2    Justin Thomas        3                       11      311.8\n",
       "3    Rickie Fowler        4                      T61      299.8\n",
       "4      Justin Rose        5                      T34      303.5"
      ]
     },
     "execution_count": 10,
     "metadata": {},
     "output_type": "execute_result"
    }
   ],
   "source": [
    "df.head()"
   ]
  },
  {
   "cell_type": "code",
   "execution_count": 11,
   "metadata": {},
   "outputs": [
    {
     "name": "stdout",
     "output_type": "stream",
     "text": [
      "<class 'pandas.core.frame.DataFrame'>\n",
      "Int64Index: 193 entries, 0 to 192\n",
      "Data columns (total 4 columns):\n",
      "PLAYER NAME                 193 non-null object\n",
      "PGA RANK                    193 non-null object\n",
      "AVG DRIVER DISTANCE RANK    193 non-null object\n",
      "AVG DRIVE                   193 non-null float64\n",
      "dtypes: float64(1), object(3)\n",
      "memory usage: 7.5+ KB\n"
     ]
    }
   ],
   "source": [
    "df.info()"
   ]
  },
  {
   "cell_type": "code",
   "execution_count": 12,
   "metadata": {},
   "outputs": [],
   "source": [
    "# Convert Rank Columns to Integers\n",
    "\n",
    "df[['PGA RANK', 'AVG DRIVER DISTANCE RANK']] = df[['PGA RANK', 'AVG DRIVER DISTANCE RANK']] \\\n",
    "                                                .applymap(lambda x: int(x.replace('T',\"\")))"
   ]
  },
  {
   "cell_type": "code",
   "execution_count": 13,
   "metadata": {},
   "outputs": [
    {
     "name": "stdout",
     "output_type": "stream",
     "text": [
      "<class 'pandas.core.frame.DataFrame'>\n",
      "Int64Index: 193 entries, 0 to 192\n",
      "Data columns (total 4 columns):\n",
      "PLAYER NAME                 193 non-null object\n",
      "PGA RANK                    193 non-null int64\n",
      "AVG DRIVER DISTANCE RANK    193 non-null int64\n",
      "AVG DRIVE                   193 non-null float64\n",
      "dtypes: float64(1), int64(2), object(1)\n",
      "memory usage: 7.5+ KB\n"
     ]
    }
   ],
   "source": [
    "df.info()"
   ]
  },
  {
   "cell_type": "code",
   "execution_count": 14,
   "metadata": {},
   "outputs": [
    {
     "data": {
      "text/plain": [
       "306.2016949152542"
      ]
     },
     "execution_count": 14,
     "metadata": {},
     "output_type": "execute_result"
    }
   ],
   "source": [
    "# Average Driving Distance for Top 25 Drivers\n",
    "df.sort_values(by='AVG DRIVER DISTANCE RANK').loc[:25, 'AVG DRIVE'].mean()"
   ]
  },
  {
   "cell_type": "code",
   "execution_count": 15,
   "metadata": {},
   "outputs": [
    {
     "data": {
      "text/plain": [
       "303.4384615384616"
      ]
     },
     "execution_count": 15,
     "metadata": {},
     "output_type": "execute_result"
    }
   ],
   "source": [
    "# Average Driving Distance for Top 25 PGA Players\n",
    "df.sort_values(by='PGA RANK').loc[:25, 'AVG DRIVE'].mean()"
   ]
  },
  {
   "cell_type": "code",
   "execution_count": 16,
   "metadata": {},
   "outputs": [
    {
     "data": {
      "text/plain": [
       "9"
      ]
     },
     "execution_count": 16,
     "metadata": {},
     "output_type": "execute_result"
    }
   ],
   "source": [
    "# Count of Top 25 Players in Top 25 Driving Rank\n",
    "sum(df.sort_values(by='PGA RANK').loc[:25, 'AVG DRIVER DISTANCE RANK'] <= 25)"
   ]
  },
  {
   "cell_type": "code",
   "execution_count": 17,
   "metadata": {},
   "outputs": [
    {
     "data": {
      "text/plain": [
       "50.5"
      ]
     },
     "execution_count": 17,
     "metadata": {},
     "output_type": "execute_result"
    }
   ],
   "source": [
    "# Average Driving Rank\n",
    "df.sort_values(by='PGA RANK').loc[:25, 'AVG DRIVER DISTANCE RANK'].mean()"
   ]
  },
  {
   "cell_type": "code",
   "execution_count": 18,
   "metadata": {},
   "outputs": [
    {
     "data": {
      "text/plain": [
       "Int64Index([1980, 1981, 1982, 1983, 1984, 1985, 1986, 1987, 1988, 1989, 1990,\n",
       "            1991, 1992, 1993, 1994, 1995, 1996, 1997, 1998, 1999, 2000, 2001,\n",
       "            2002, 2003, 2004, 2005, 2006, 2007, 2008, 2009, 2010, 2011, 2012,\n",
       "            2013, 2014, 2015, 2016, 2017, 2018, 2019],\n",
       "           dtype='int64')"
      ]
     },
     "execution_count": 18,
     "metadata": {},
     "output_type": "execute_result"
    }
   ],
   "source": [
    "# Create a List of Years\n",
    "pd.date_range(start='1/1/1980', end=pd.to_datetime('today') + \n",
    "              pd.offsets.DateOffset(month=12, day=31), freq='Y').year"
   ]
  },
  {
   "cell_type": "code",
   "execution_count": 19,
   "metadata": {},
   "outputs": [
    {
     "name": "stdout",
     "output_type": "stream",
     "text": [
      "https://www.pgatour.com/stats/stat.101.1980.html\n",
      "https://www.pgatour.com/stats/stat.101.1981.html\n",
      "https://www.pgatour.com/stats/stat.101.1982.html\n",
      "https://www.pgatour.com/stats/stat.101.1983.html\n",
      "https://www.pgatour.com/stats/stat.101.1984.html\n",
      "https://www.pgatour.com/stats/stat.101.1985.html\n",
      "https://www.pgatour.com/stats/stat.101.1986.html\n",
      "https://www.pgatour.com/stats/stat.101.1987.html\n",
      "https://www.pgatour.com/stats/stat.101.1988.html\n",
      "https://www.pgatour.com/stats/stat.101.1989.html\n",
      "https://www.pgatour.com/stats/stat.101.1990.html\n",
      "https://www.pgatour.com/stats/stat.101.1991.html\n",
      "https://www.pgatour.com/stats/stat.101.1992.html\n",
      "https://www.pgatour.com/stats/stat.101.1993.html\n",
      "https://www.pgatour.com/stats/stat.101.1994.html\n",
      "https://www.pgatour.com/stats/stat.101.1995.html\n",
      "https://www.pgatour.com/stats/stat.101.1996.html\n",
      "https://www.pgatour.com/stats/stat.101.1997.html\n",
      "https://www.pgatour.com/stats/stat.101.1998.html\n",
      "https://www.pgatour.com/stats/stat.101.1999.html\n",
      "https://www.pgatour.com/stats/stat.101.2000.html\n",
      "https://www.pgatour.com/stats/stat.101.2001.html\n",
      "https://www.pgatour.com/stats/stat.101.2002.html\n",
      "https://www.pgatour.com/stats/stat.101.2003.html\n",
      "https://www.pgatour.com/stats/stat.101.2004.html\n",
      "https://www.pgatour.com/stats/stat.101.2005.html\n",
      "https://www.pgatour.com/stats/stat.101.2006.html\n",
      "https://www.pgatour.com/stats/stat.101.2007.html\n",
      "https://www.pgatour.com/stats/stat.101.2008.html\n",
      "https://www.pgatour.com/stats/stat.101.2009.html\n",
      "https://www.pgatour.com/stats/stat.101.2010.html\n",
      "https://www.pgatour.com/stats/stat.101.2011.html\n",
      "https://www.pgatour.com/stats/stat.101.2012.html\n",
      "https://www.pgatour.com/stats/stat.101.2013.html\n",
      "https://www.pgatour.com/stats/stat.101.2014.html\n",
      "https://www.pgatour.com/stats/stat.101.2015.html\n",
      "https://www.pgatour.com/stats/stat.101.2016.html\n",
      "https://www.pgatour.com/stats/stat.101.2017.html\n",
      "https://www.pgatour.com/stats/stat.101.2018.html\n",
      "https://www.pgatour.com/stats/stat.101.2019.html\n"
     ]
    }
   ],
   "source": [
    "# Create a List of Years\n",
    "years = pd.date_range(start='1/1/1980', end=pd.to_datetime('today') +\n",
    "                      pd.offsets.DateOffset(month=12, day=31), freq='Y').year\n",
    "\n",
    "# Top 25\n",
    "for year in years:\n",
    "    print(f'https://www.pgatour.com/stats/stat.101.{year}.html')"
   ]
  },
  {
   "cell_type": "code",
   "execution_count": 20,
   "metadata": {},
   "outputs": [],
   "source": [
    "# Loop Through URL's and create a Dataframe\n",
    "\n",
    "d = []\n",
    "\n",
    "for year in years:\n",
    "    tables = pd.read_html(f'https://www.pgatour.com/stats/stat.101.{year}.html')\n",
    "    drives = tables[1].loc[:25]\n",
    "    \n",
    "    d.append({'Year': year, 'Average Drive': drives['AVG.'].mean()})\n",
    "\n",
    "dot_df = pd.DataFrame(d)"
   ]
  },
  {
   "cell_type": "code",
   "execution_count": 21,
   "metadata": {},
   "outputs": [
    {
     "data": {
      "text/html": [
       "<div>\n",
       "<style scoped>\n",
       "    .dataframe tbody tr th:only-of-type {\n",
       "        vertical-align: middle;\n",
       "    }\n",
       "\n",
       "    .dataframe tbody tr th {\n",
       "        vertical-align: top;\n",
       "    }\n",
       "\n",
       "    .dataframe thead th {\n",
       "        text-align: right;\n",
       "    }\n",
       "</style>\n",
       "<table border=\"1\" class=\"dataframe\">\n",
       "  <thead>\n",
       "    <tr style=\"text-align: right;\">\n",
       "      <th></th>\n",
       "      <th>Average Drive</th>\n",
       "      <th>Year</th>\n",
       "    </tr>\n",
       "  </thead>\n",
       "  <tbody>\n",
       "    <tr>\n",
       "      <th>0</th>\n",
       "      <td>268.400000</td>\n",
       "      <td>1980</td>\n",
       "    </tr>\n",
       "    <tr>\n",
       "      <th>1</th>\n",
       "      <td>269.957692</td>\n",
       "      <td>1981</td>\n",
       "    </tr>\n",
       "    <tr>\n",
       "      <th>2</th>\n",
       "      <td>267.707692</td>\n",
       "      <td>1982</td>\n",
       "    </tr>\n",
       "    <tr>\n",
       "      <th>3</th>\n",
       "      <td>269.853846</td>\n",
       "      <td>1983</td>\n",
       "    </tr>\n",
       "    <tr>\n",
       "      <th>4</th>\n",
       "      <td>271.223077</td>\n",
       "      <td>1984</td>\n",
       "    </tr>\n",
       "  </tbody>\n",
       "</table>\n",
       "</div>"
      ],
      "text/plain": [
       "   Average Drive  Year\n",
       "0     268.400000  1980\n",
       "1     269.957692  1981\n",
       "2     267.707692  1982\n",
       "3     269.853846  1983\n",
       "4     271.223077  1984"
      ]
     },
     "execution_count": 21,
     "metadata": {},
     "output_type": "execute_result"
    }
   ],
   "source": [
    "dot_df.head()"
   ]
  },
  {
   "cell_type": "code",
   "execution_count": 22,
   "metadata": {},
   "outputs": [
    {
     "data": {
      "image/png": "[encoded data removed]",
      "text/plain": [
       "<Figure size 1080x360 with 1 Axes>"
      ]
     },
     "metadata": {
      "needs_background": "light"
     },
     "output_type": "display_data"
    }
   ],
   "source": [
    "%matplotlib inline\n",
    "\n",
    "dot_df.set_index('Year')['Average Drive'].plot(figsize=(15,5), xticks=(years), \n",
    "                                               rot='vertical', title='Avg Distance');"
   ]
  },
  {
   "cell_type": "code",
   "execution_count": 23,
   "metadata": {},
   "outputs": [
    {
     "data": {
      "image/png": "[encoded data removed]",
      "text/plain": [
       "<Figure size 1080x360 with 1 Axes>"
      ]
     },
     "metadata": {
      "needs_background": "light"
     },
     "output_type": "display_data"
    }
   ],
   "source": [
    "dot_df.set_index('Year')['Average Drive'].diff().plot(figsize=(15,5), xticks=(years), \n",
    "                                                      rot='vertical', title='Change in Avg Distance');"
   ]
  },
  {
   "cell_type": "code",
   "execution_count": null,
   "metadata": {},
   "outputs": [],
   "source": []
  }
 ],
 "metadata": {
  "kernelspec": {
   "display_name": "Python 3",
   "language": "python",
   "name": "python3"
  },
  "language_info": {
   "codemirror_mode": {
    "name": "ipython",
    "version": 3
   },
   "file_extension": ".py",
   "mimetype": "text/x-python",
   "name": "python",
   "nbconvert_exporter": "python",
   "pygments_lexer": "ipython3",
   "version": "3.7.2"
  }
 },
 "nbformat": 4,
 "nbformat_minor": 2
}
