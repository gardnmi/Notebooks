{
 "cells": [
  {
   "cell_type": "markdown",
   "metadata": {},
   "source": [
    "Collaborative Filtering is a common approach to developing recommendation engines.  Essentially it is an algorithm that relies on user behavior to provide a recommendation.  For further detail please visit https://www.analyticsvidhya.com/blog/2015/10/recommendation-engines/. \n",
    "\n",
    "In this post we will generate user purchase data and utilize the scikit Suprise library to implement a recommendation engine to identify cross selling opportunities."
   ]
  },
  {
   "cell_type": "code",
   "execution_count": 1,
   "metadata": {},
   "outputs": [],
   "source": [
    "import numpy as np\n",
    "import pandas as pd\n",
    "from collections import defaultdict\n",
    "import math\n",
    "import seaborn as sns\n",
    "import matplotlib.pyplot as plt\n",
    "from surprise import KNNBasic\n",
    "from surprise import Dataset\n",
    "from surprise import Reader\n",
    "from surprise.model_selection import cross_validate\n",
    "\n",
    "%matplotlib inline"
   ]
  },
  {
   "cell_type": "markdown",
   "metadata": {},
   "source": [
    "The data is a matrix of purchase history that contains 1,000 different users and 100 different products.  If the user owns the product then it will be represented as the number \"1\" else it will be represented as the number \"0\".   \n",
    "\n",
    "Our goal is to have our algorithm recommend products that make sense to cross sell.  In order make sure our algorithm works, we've created a pattern in the data where the first 100 users only own products 0 thru 9 and the next 100 users own only products 10 thru 19, and so on.  There is only a 35% chance that the user will own the product to ensure we have cross selling opportunities.\n",
    "\n",
    "The below heatmap you can see a visualization of the data. The rows are our 1,000 users and the columns are 100 products.  Each green dash is a product owned by that particular user.  Each square block is a cluster of products and users.  You could think of these clusters as being specific product division within a company.\n",
    "\n",
    "If our algorithm is working correctly then it should only recommend cross selling opportunities within each user/product cluster."
   ]
  },
  {
   "cell_type": "code",
   "execution_count": 2,
   "metadata": {},
   "outputs": [
    {
     "data": {
      "image/png": "[encoded data removed]",
      "text/plain": [
       "<Figure size 936x720 with 1 Axes>"
      ]
     },
     "metadata": {},
     "output_type": "display_data"
    }
   ],
   "source": [
    "data = np.zeros((1000, 100))\n",
    "purchases = np.random.choice(2, size=(1000, 10), p=[.65, .35])\n",
    "\n",
    "for n in range(1000):\n",
    "    # https://stackoverflow.com/questions/26454649/python-round-up-to-the-nearest-ten\n",
    "    index = int(math.ceil((n+1) / 100.0)) * 10 \n",
    "    data[n, index-10 : index] = purchases[n]\n",
    "    \n",
    "df = pd.DataFrame(data)\n",
    "\n",
    "plt.figure(figsize=(13, 10))\n",
    "sns.heatmap(df,\n",
    "            cbar=False,\n",
    "            xticklabels=False,\n",
    "            yticklabels=False,\n",
    "            cmap=sns.color_palette([\"#34495e\", \"#2ecc71\"]));"
   ]
  },
  {
   "cell_type": "markdown",
   "metadata": {},
   "source": [
    "Of course with the data above you wouldn't need an algorithm to help you provide recommendations for cross selling but if we were to shuffle the rows and columns around a bit you will get a more sporadic looking dataset that visually looks random. However, the pattern we created still exists within the data even though it's shuffled.  This is where a recommendation algorithm can be useful as it will find any trends if they exists and provide us with useful recommendations."
   ]
  },
  {
   "cell_type": "code",
   "execution_count": 3,
   "metadata": {},
   "outputs": [
    {
     "data": {
      "image/png": "[encoded data removed]",
      "text/plain": [
       "<Figure size 936x720 with 1 Axes>"
      ]
     },
     "metadata": {},
     "output_type": "display_data"
    }
   ],
   "source": [
    "# https://stackoverflow.com/questions/47923429/how-to-shuffle-a-pandas-dataframe-randomly-by-row\n",
    "df = df.sample(frac=1, axis=0).sample(frac=1, axis=1)\n",
    "\n",
    "plt.figure(figsize=(13, 10))\n",
    "sns.heatmap(df,\n",
    "            cbar=False,\n",
    "            xticklabels=False,\n",
    "            yticklabels=False,\n",
    "            cmap=sns.color_palette([\"#34495e\", \"#2ecc71\"]));"
   ]
  },
  {
   "cell_type": "markdown",
   "metadata": {},
   "source": [
    "The algorithm we are using requires the data be in a transactional format where each row represents the user, the product, and whether or not the product is purchased (1 = purchased, 0 = not purchased).\n",
    "\n",
    "To better distinguish users from products we'll prefix the user_id with 'u_' and the product_id with 'p_'.  This will be useful in understanding the outputs from our algorithm as it can also similar users if we desire.  \n",
    "\n",
    "Below is the first 10 rows in our data."
   ]
  },
  {
   "cell_type": "code",
   "execution_count": 4,
   "metadata": {},
   "outputs": [
    {
     "data": {
      "text/html": [
       "<div>\n",
       "<style scoped>\n",
       "    .dataframe tbody tr th:only-of-type {\n",
       "        vertical-align: middle;\n",
       "    }\n",
       "\n",
       "    .dataframe tbody tr th {\n",
       "        vertical-align: top;\n",
       "    }\n",
       "\n",
       "    .dataframe thead th {\n",
       "        text-align: right;\n",
       "    }\n",
       "</style>\n",
       "<table border=\"1\" class=\"dataframe\">\n",
       "  <thead>\n",
       "    <tr style=\"text-align: right;\">\n",
       "      <th></th>\n",
       "      <th>user_id</th>\n",
       "      <th>product_id</th>\n",
       "      <th>is_purchase</th>\n",
       "    </tr>\n",
       "  </thead>\n",
       "  <tbody>\n",
       "    <tr>\n",
       "      <th>0</th>\n",
       "      <td>u_913</td>\n",
       "      <td>p_99</td>\n",
       "      <td>0.0</td>\n",
       "    </tr>\n",
       "    <tr>\n",
       "      <th>1</th>\n",
       "      <td>u_521</td>\n",
       "      <td>p_15</td>\n",
       "      <td>0.0</td>\n",
       "    </tr>\n",
       "    <tr>\n",
       "      <th>2</th>\n",
       "      <td>u_597</td>\n",
       "      <td>p_75</td>\n",
       "      <td>0.0</td>\n",
       "    </tr>\n",
       "    <tr>\n",
       "      <th>3</th>\n",
       "      <td>u_436</td>\n",
       "      <td>p_78</td>\n",
       "      <td>0.0</td>\n",
       "    </tr>\n",
       "    <tr>\n",
       "      <th>4</th>\n",
       "      <td>u_799</td>\n",
       "      <td>p_23</td>\n",
       "      <td>0.0</td>\n",
       "    </tr>\n",
       "    <tr>\n",
       "      <th>5</th>\n",
       "      <td>u_687</td>\n",
       "      <td>p_34</td>\n",
       "      <td>0.0</td>\n",
       "    </tr>\n",
       "    <tr>\n",
       "      <th>6</th>\n",
       "      <td>u_862</td>\n",
       "      <td>p_87</td>\n",
       "      <td>0.0</td>\n",
       "    </tr>\n",
       "    <tr>\n",
       "      <th>7</th>\n",
       "      <td>u_520</td>\n",
       "      <td>p_52</td>\n",
       "      <td>0.0</td>\n",
       "    </tr>\n",
       "    <tr>\n",
       "      <th>8</th>\n",
       "      <td>u_480</td>\n",
       "      <td>p_63</td>\n",
       "      <td>0.0</td>\n",
       "    </tr>\n",
       "    <tr>\n",
       "      <th>9</th>\n",
       "      <td>u_500</td>\n",
       "      <td>p_7</td>\n",
       "      <td>0.0</td>\n",
       "    </tr>\n",
       "  </tbody>\n",
       "</table>\n",
       "</div>"
      ],
      "text/plain": [
       "  user_id product_id  is_purchase\n",
       "0   u_913       p_99          0.0\n",
       "1   u_521       p_15          0.0\n",
       "2   u_597       p_75          0.0\n",
       "3   u_436       p_78          0.0\n",
       "4   u_799       p_23          0.0\n",
       "5   u_687       p_34          0.0\n",
       "6   u_862       p_87          0.0\n",
       "7   u_520       p_52          0.0\n",
       "8   u_480       p_63          0.0\n",
       "9   u_500        p_7          0.0"
      ]
     },
     "execution_count": 4,
     "metadata": {},
     "output_type": "execute_result"
    }
   ],
   "source": [
    "# https://stackoverflow.com/questions/26639003/python-unpivot-data\n",
    "\n",
    "df = pd.melt(df.reset_index(), id_vars=['index'])\n",
    "df = df.sample(frac=1, axis=0).reset_index(drop=True)\n",
    "df.columns = ['user_id', 'product_id', 'is_purchase']\n",
    "df.user_id = df.user_id.map(lambda x: f'u_{x}')\n",
    "df.product_id = df.product_id.map(lambda x: f'p_{x}')\n",
    "\n",
    "df.head(10)"
   ]
  },
  {
   "cell_type": "markdown",
   "metadata": {},
   "source": [
    "Now that our data is ready we can train/fit the algorithm.  The algorithm \"KNNBasic\" computes a similarity matrix between users and then uses that matrix to predict whether or not the user owns the product.  \n",
    "\n",
    "We've created a function called \"get_top_n\" that by default uses our trained algorithm to make a prediction for every user and then returns the 10 products that had the highest probability of being owned by the user.\n",
    "\n",
    "If our algorithm is working correctly it will recommended for users 0 - 99 products 0 - 9, for users 100 - 199 products 10 - 19 and so on."
   ]
  },
  {
   "cell_type": "code",
   "execution_count": 5,
   "metadata": {},
   "outputs": [
    {
     "name": "stdout",
     "output_type": "stream",
     "text": [
      "Computing the msd similarity matrix...\n",
      "Done computing similarity matrix.\n",
      "\n",
      " First 20 Results: \n",
      "\n",
      "u_913 ['p_95', 'p_97', 'p_92', 'p_90', 'p_98', 'p_96', 'p_99', 'p_91', 'p_93', 'p_94']\n",
      "u_521 ['p_52', 'p_55', 'p_51', 'p_50', 'p_53', 'p_58', 'p_57', 'p_54', 'p_47', 'p_90']\n",
      "u_597 ['p_53', 'p_59', 'p_52', 'p_57', 'p_54', 'p_56', 'p_50', 'p_51', 'p_58', 'p_55']\n",
      "u_436 ['p_44', 'p_41', 'p_43', 'p_45', 'p_47', 'p_48', 'p_40', 'p_42', 'p_49', 'p_46']\n",
      "u_799 ['p_76', 'p_70', 'p_74', 'p_71', 'p_73', 'p_23', 'p_79', 'p_90', 'p_47', 'p_19']\n",
      "u_687 ['p_61', 'p_60', 'p_63', 'p_64', 'p_66', 'p_69', 'p_68', 'p_62', 'p_65', 'p_67']\n",
      "u_862 ['p_88', 'p_81', 'p_86', 'p_89', 'p_83', 'p_84', 'p_85', 'p_87', 'p_82', 'p_80']\n",
      "u_520 ['p_50', 'p_57', 'p_56', 'p_51', 'p_55', 'p_52', 'p_59', 'p_68', 'p_84', 'p_2']\n",
      "u_480 ['p_44', 'p_49', 'p_45', 'p_43', 'p_47', 'p_42', 'p_40', 'p_41', 'p_48', 'p_46']\n",
      "u_500 ['p_58', 'p_55', 'p_57', 'p_56', 'p_52', 'p_54', 'p_50', 'p_51', 'p_53', 'p_59']\n",
      "u_85 ['p_9', 'p_0', 'p_8', 'p_1', 'p_4', 'p_2', 'p_5', 'p_3', 'p_7', 'p_6']\n",
      "u_706 ['p_76', 'p_75', 'p_78', 'p_70', 'p_72', 'p_71', 'p_79', 'p_74', 'p_77', 'p_73']\n",
      "u_125 ['p_15', 'p_11', 'p_17', 'p_16', 'p_10', 'p_14', 'p_13', 'p_12', 'p_19', 'p_18']\n",
      "u_42 ['p_8', 'p_9', 'p_3', 'p_6', 'p_4', 'p_7', 'p_0', 'p_1', 'p_2', 'p_5']\n",
      "u_958 ['p_99', 'p_94', 'p_91', 'p_96', 'p_92', 'p_93', 'p_95', 'p_98', 'p_97', 'p_90']\n",
      "u_590 ['p_56', 'p_58', 'p_54', 'p_57', 'p_52', 'p_55', 'p_51', 'p_59', 'p_50', 'p_53']\n",
      "u_860 ['p_86', 'p_82', 'p_83', 'p_80', 'p_84', 'p_87', 'p_81', 'p_68', 'p_19', 'p_24']\n",
      "u_823 ['p_88', 'p_85', 'p_84', 'p_83', 'p_87', 'p_86', 'p_23', 'p_76', 'p_79', 'p_89']\n",
      "u_31 ['p_8', 'p_0', 'p_2', 'p_1', 'p_6', 'p_5', 'p_9', 'p_7', 'p_4', 'p_3']\n",
      "u_424 ['p_49', 'p_40', 'p_48', 'p_46', 'p_41', 'p_44', 'p_43', 'p_42', 'p_47', 'p_45']\n"
     ]
    }
   ],
   "source": [
    "reader = Reader(rating_scale=(0, 1))\n",
    "data = Dataset.load_from_df(df, reader)\n",
    "algo = KNNBasic(sim_options={'user_based': True})\n",
    "trainset = data.build_full_trainset()\n",
    "algo.fit(trainset)\n",
    "testset = trainset.build_testset()\n",
    "predictions = algo.test(testset)\n",
    "\n",
    "def get_top_n(predictions, n=10):\n",
    "    '''\n",
    "    Return the top-N recommendation for each user from a set of predictions.\n",
    "    \n",
    "    Source: \n",
    "        https://surprise.readthedocs.io/en/stable/FAQ.html\n",
    "\n",
    "    Args:\n",
    "        predictions(list of Prediction objects): The list of predictions, as\n",
    "            returned by the test method of an algorithm.\n",
    "        n(int): The number of recommendation to output for each user. Default\n",
    "            is 10.\n",
    "\n",
    "    Returns:\n",
    "    A dict where keys are user (raw) ids and values are lists of tuples:\n",
    "        [(raw item id, rating estimation), ...] of size n.\n",
    "    '''\n",
    "\n",
    "    # First map the predictions to each user.\n",
    "    top_n = defaultdict(list)\n",
    "    for uid, iid, true_r, est, _ in predictions:\n",
    "        top_n[uid].append((iid, est))\n",
    "\n",
    "    # Then sort the predictions for each user and retrieve the k highest ones.\n",
    "    for uid, user_ratings in top_n.items():\n",
    "        user_ratings.sort(key=lambda x: x[1], reverse=True)\n",
    "        top_n[uid] = user_ratings[:n]\n",
    "\n",
    "    return top_n\n",
    "\n",
    "top_n = get_top_n(predictions, n=10)\n",
    "print('\\n First 20 Results: \\n')\n",
    "count = 0\n",
    "for uid, user_ratings in top_n.items():\n",
    "    print(uid, [iid for (iid, _) in user_ratings])\n",
    "    count += 1\n",
    "    if count == 20:\n",
    "        break"
   ]
  },
  {
   "cell_type": "markdown",
   "metadata": {},
   "source": [
    "With the top 10 product recommendations for each user available to us, we can use it to generate Opportunities for specific users.\n",
    "\n",
    "Below we iterate through the top recommendations for User 'u_9' and identify cross selling opportunities with the label \"Opportunity:\"."
   ]
  },
  {
   "cell_type": "code",
   "execution_count": 6,
   "metadata": {},
   "outputs": [
    {
     "name": "stdout",
     "output_type": "stream",
     "text": [
      "Purchased: p_9\n",
      "Purchased: p_4\n",
      "Purchased: p_1\n",
      "Opporutnity: p_2\n",
      "Opporutnity: p_7\n",
      "Opporutnity: p_3\n",
      "Opporutnity: p_8\n",
      "Opporutnity: p_0\n",
      "Opporutnity: p_5\n",
      "Opporutnity: p_6\n"
     ]
    }
   ],
   "source": [
    "for item in top_n['u_9']:\n",
    "    if item[0] in df[(df.user_id =='u_9') & (df.is_purchase==1)].product_id.to_list():\n",
    "        print(f'Purchased: {item[0]}')\n",
    "    else:\n",
    "        print(f'Opporutnity: {item[0]}')"
   ]
  },
  {
   "cell_type": "markdown",
   "metadata": {},
   "source": [
    "Because our algorithm computes a similarity matrix we can leverage it to find the **n** nearest neighbors for any user.  This can be leveraged for other tasks such as pricing guidance or would could just retrain our algorithm to predict pricing instead of purchases and use those prediction as pricing recommendations.\n",
    "\n",
    "Below we show the 25 nearest neighbors to user \"u_1\".  If it is working correctly we should see mostly 25 users within the range of users 0 - 99."
   ]
  },
  {
   "cell_type": "code",
   "execution_count": 7,
   "metadata": {},
   "outputs": [
    {
     "name": "stdout",
     "output_type": "stream",
     "text": [
      "25 most similar Users to 'u_1': \n",
      "\n",
      "['u_30', 'u_73', 'u_23', 'u_76', 'u_51', 'u_86', 'u_36', 'u_78', 'u_35', 'u_68', 'u_26', 'u_63', 'u_11', 'u_2', 'u_32', 'u_85', 'u_31', 'u_54', 'u_67', 'u_61', 'u_7', 'u_45', 'u_21', 'u_66', 'u_25']\n"
     ]
    }
   ],
   "source": [
    "neighbors = algo.get_neighbors(trainset.to_inner_uid('u_1'), k=25)\n",
    "\n",
    "print(\"25 most similar Users to 'u_1': \\n\")\n",
    "print([trainset.to_raw_uid(user) for user in neighbors])"
   ]
  },
  {
   "cell_type": "markdown",
   "metadata": {},
   "source": [
    "Since were using \"user based similarities\" to provide recommendations we can't provide recommendations for new user.  This is termed the \"cold start problem\".\n",
    "\n",
    "Instead we can train a separate algorithm that uses \"item based similarities\" to recommend products that are similar to one another.  For example if our new user is interested in product 25 \"p_25\" our algorithm should be able to recommend products 20 thru 29 as cross selling opportunities. \n",
    "\n"
   ]
  },
  {
   "cell_type": "code",
   "execution_count": 8,
   "metadata": {},
   "outputs": [
    {
     "name": "stdout",
     "output_type": "stream",
     "text": [
      "Computing the msd similarity matrix...\n",
      "Done computing similarity matrix.\n",
      "\n",
      " 9 most similar Products to p_25: \n",
      "\n",
      "['p_21', 'p_29', 'p_28', 'p_22', 'p_26', 'p_27', 'p_23', 'p_24', 'p_20']\n"
     ]
    }
   ],
   "source": [
    "algo = KNNBasic(sim_options={'user_based': False})\n",
    "algo.fit(trainset)\n",
    "neighbors = algo.get_neighbors(trainset.to_inner_iid('p_25'), k=9)\n",
    "print(\"\\n 9 most similar Products to p_25: \\n\")\n",
    "print([trainset.to_raw_iid(item) for item in neighbors])"
   ]
  },
  {
   "cell_type": "markdown",
   "metadata": {},
   "source": [
    "## Resources:\n",
    "\n",
    "* http://surpriselib.com/\n",
    "* https://www.analyticsvidhya.com/blog/2015/10/recommendation-engines/\n",
    "* https://www.datacamp.com/community/tutorials/recommender-systems-python\n",
    "* https://realpython.com/build-recommendation-engine-collaborative-filtering/"
   ]
  }
 ],
 "metadata": {
  "kernelspec": {
   "display_name": "Python 3",
   "language": "python",
   "name": "python3"
  },
  "language_info": {
   "codemirror_mode": {
    "name": "ipython",
    "version": 3
   },
   "file_extension": ".py",
   "mimetype": "text/x-python",
   "name": "python",
   "nbconvert_exporter": "python",
   "pygments_lexer": "ipython3",
   "version": "3.7.3"
  },
  "varInspector": {
   "cols": {
    "lenName": 16,
    "lenType": 16,
    "lenVar": 40
   },
   "kernels_config": {
    "python": {
     "delete_cmd_postfix": "",
     "delete_cmd_prefix": "del ",
     "library": "var_list.py",
     "varRefreshCmd": "print(var_dic_list())"
    },
    "r": {
     "delete_cmd_postfix": ") ",
     "delete_cmd_prefix": "rm(",
     "library": "var_list.r",
     "varRefreshCmd": "cat(var_dic_list()) "
    }
   },
   "types_to_exclude": [
    "module",
    "function",
    "builtin_function_or_method",
    "instance",
    "_Feature"
   ],
   "window_display": false
  }
 },
 "nbformat": 4,
 "nbformat_minor": 2
}
