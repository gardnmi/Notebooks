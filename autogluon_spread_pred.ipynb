{
  "nbformat": 4,
  "nbformat_minor": 0,
  "metadata": {
    "colab": {
      "name": "Untitled0.ipynb",
      "provenance": [],
      "authorship_tag": "ABX9TyPzJO6WwopAXlQgrdr1pg4q",
      "include_colab_link": true
    },
    "kernelspec": {
      "name": "python3",
      "display_name": "Python 3"
    }
  },
  "cells": [
    {
      "cell_type": "markdown",
      "metadata": {
        "id": "view-in-github",
        "colab_type": "text"
      },
      "source": [
        "<a href=\"https://colab.research.google.com/github/gardnmi/Notebooks/blob/master/autogluon_spread_pred.ipynb\" target=\"_parent\"><img src=\"https://colab.research.google.com/assets/colab-badge.svg\" alt=\"Open In Colab\"/></a>"
      ]
    },
    {
      "cell_type": "code",
      "metadata": {
        "id": "Dn9NUiyAbs3X",
        "colab_type": "code",
        "colab": {}
      },
      "source": [
        "!pip install autogluon\n",
        "!pip install mxnet"
      ],
      "execution_count": null,
      "outputs": []
    },
    {
      "cell_type": "code",
      "metadata": {
        "id": "OaUtxHKTbwT3",
        "colab_type": "code",
        "colab": {}
      },
      "source": [
        "!pip install -U ipykernel"
      ],
      "execution_count": null,
      "outputs": []
    },
    {
      "cell_type": "code",
      "metadata": {
        "id": "lOJlkk_YbxKH",
        "colab_type": "code",
        "colab": {}
      },
      "source": [
        "import autogluon as ag\n",
        "from autogluon import TabularPrediction as task"
      ],
      "execution_count": 3,
      "outputs": []
    },
    {
      "cell_type": "code",
      "metadata": {
        "id": "d42jjn00coTz",
        "colab_type": "code",
        "colab": {
          "base_uri": "https://localhost:8080/",
          "height": 34
        },
        "outputId": "f6bb15ce-e195-4afd-e838-cafe3c347f4a"
      },
      "source": [
        "train_data = task.Dataset(file_path='train.csv')\n",
        "train_data = train_data.drop('spread_result', axis=1) # use for regression\n",
        "# train_data = train_data.drop('spread_target', axis=1) # use for classifier"
      ],
      "execution_count": 33,
      "outputs": [
        {
          "output_type": "stream",
          "text": [
            "Loaded data from: train.csv | Columns = 434 / 434 | Rows = 4729 -> 4729\n"
          ],
          "name": "stderr"
        }
      ]
    },
    {
      "cell_type": "code",
      "metadata": {
        "id": "aX8C91dTe9pb",
        "colab_type": "code",
        "colab": {}
      },
      "source": [
        "# label_column = 'spread_result' # use for classifier\n",
        "label_column = 'spread_target' # use for regression"
      ],
      "execution_count": 35,
      "outputs": []
    },
    {
      "cell_type": "code",
      "metadata": {
        "id": "OA7Zl-EOf8qp",
        "colab_type": "code",
        "colab": {
          "base_uri": "https://localhost:8080/",
          "height": 1000
        },
        "outputId": "d92ec810-84df-418b-c760-3b3fd8a80959"
      },
      "source": [
        "predictor = task.fit(train_data=train_data, label=label_column, problem_type = 'regression')"
      ],
      "execution_count": 36,
      "outputs": [
        {
          "output_type": "stream",
          "text": [
            "No output_directory specified. Models will be saved in: AutogluonModels/ag-20200919_041644/\n",
            "Beginning AutoGluon training ...\n",
            "AutoGluon will save models to AutogluonModels/ag-20200919_041644/\n",
            "AutoGluon Version:  0.0.13\n",
            "Train Data Rows:    4729\n",
            "Train Data Columns: 433\n",
            "Preprocessing data ...\n",
            "Feature Generator processed 4729 data points with 432 features\n",
            "Original Features (raw dtypes):\n",
            "\tint64 features: 4\n",
            "\tobject features: 7\n",
            "\tbool features: 2\n",
            "\tfloat64 features: 419\n",
            "Original Features (inferred dtypes):\n",
            "\tint features: 4\n",
            "\tobject features: 6\n",
            "\tdatetime features: 1\n",
            "\tbool features: 2\n",
            "\tfloat features: 419\n",
            "Generated Features (special dtypes):\n",
            "\tdatetime features: 1\n",
            "Processed Features (raw dtypes):\n",
            "\tint features: 5\n",
            "\tbool features: 2\n",
            "\tfloat features: 419\n",
            "\tcategory features: 6\n",
            "Processed Features:\n",
            "\tdatetime features: 1\n",
            "\tint features: 4\n",
            "\tbool features: 2\n",
            "\tfloat features: 419\n",
            "\tcategory features: 6\n",
            "\tData preprocessing and feature engineering runtime = 1.07s ...\n",
            "AutoGluon will gauge predictive performance using evaluation metric: root_mean_squared_error\n",
            "To change this, specify the eval_metric argument of fit()\n",
            "AutoGluon will early stop models using evaluation metric: root_mean_squared_error\n",
            "Fitting model: RandomForestRegressorMSE ...\n",
            "\t-15.6487\t = Validation root_mean_squared_error score\n",
            "\t222.84s\t = Training runtime\n",
            "\t0.19s\t = Validation runtime\n",
            "Fitting model: ExtraTreesRegressorMSE ...\n",
            "\t-15.9104\t = Validation root_mean_squared_error score\n",
            "\t95.99s\t = Training runtime\n",
            "\t0.28s\t = Validation runtime\n",
            "Fitting model: KNeighborsRegressorUnif ...\n",
            "\t-22.9461\t = Validation root_mean_squared_error score\n",
            "\t0.36s\t = Training runtime\n",
            "\t0.12s\t = Validation runtime\n",
            "Fitting model: KNeighborsRegressorDist ...\n",
            "\t-24.891\t = Validation root_mean_squared_error score\n",
            "\t0.39s\t = Training runtime\n",
            "\t0.12s\t = Validation runtime\n",
            "Fitting model: LightGBMRegressor ...\n",
            "\t-15.6987\t = Validation root_mean_squared_error score\n",
            "\t18.08s\t = Training runtime\n",
            "\t0.09s\t = Validation runtime\n",
            "Fitting model: CatboostRegressor ...\n",
            "\t-15.6103\t = Validation root_mean_squared_error score\n",
            "\t18.35s\t = Training runtime\n",
            "\t0.09s\t = Validation runtime\n",
            "Fitting model: NeuralNetRegressor ...\n",
            "\t-17.819\t = Validation root_mean_squared_error score\n",
            "\t106.99s\t = Training runtime\n",
            "\t0.16s\t = Validation runtime\n",
            "Fitting model: LightGBMRegressorCustom ...\n",
            "\t-15.8945\t = Validation root_mean_squared_error score\n",
            "\t83.85s\t = Training runtime\n",
            "\t0.09s\t = Validation runtime\n",
            "Fitting model: weighted_ensemble_k0_l1 ...\n",
            "\t-15.3631\t = Validation root_mean_squared_error score\n",
            "\t0.53s\t = Training runtime\n",
            "\t0.0s\t = Validation runtime\n",
            "AutoGluon training complete, total runtime = 552.35s ...\n"
          ],
          "name": "stderr"
        }
      ]
    },
    {
      "cell_type": "code",
      "metadata": {
        "id": "DWk8WzBmgiZW",
        "colab_type": "code",
        "colab": {
          "base_uri": "https://localhost:8080/",
          "height": 34
        },
        "outputId": "c4346fde-d27f-4a6c-f3ad-85c98ff618e6"
      },
      "source": [
        "test_data = task.Dataset(file_path='test.csv')\n",
        "test_data = test_data.drop('spread_result', axis=1) # use for regression\n",
        "# test_data = test_data.drop('spread_target', axis=1) # use for classifier\n",
        "\n",
        "y_test = test_data[label_column]\n",
        "test_data_nolab = test_data.drop(labels=[label_column],axis=1) # delete label column to prove we're not cheating"
      ],
      "execution_count": 37,
      "outputs": [
        {
          "output_type": "stream",
          "text": [
            "Loaded data from: test.csv | Columns = 434 / 434 | Rows = 879 -> 879\n"
          ],
          "name": "stderr"
        }
      ]
    },
    {
      "cell_type": "code",
      "metadata": {
        "id": "OWSfg0JChQ2f",
        "colab_type": "code",
        "colab": {
          "base_uri": "https://localhost:8080/",
          "height": 202
        },
        "outputId": "518058d3-e576-49dd-99da-6daaac298591"
      },
      "source": [
        "y_train_pred = predictor.predict(train_data)\n",
        "y_test_pred = predictor.predict(test_data)\n",
        "\n",
        "perf = predictor.evaluate_predictions(y_true=y_test, y_pred=y_test_pred, auxiliary_metrics=True)"
      ],
      "execution_count": 39,
      "outputs": [
        {
          "output_type": "stream",
          "text": [
            "Evaluation: root_mean_squared_error on test data: 15.874844031867601\n",
            "Evaluations on test data:\n",
            "{\n",
            "    \"root_mean_squared_error\": 15.874844031867601,\n",
            "    \"mean_absolute_error\": 12.4746621044626,\n",
            "    \"explained_variance_score\": 0.5258056273302916,\n",
            "    \"r2_score\": 0.5209924805192719,\n",
            "    \"pearson_correlation\": 0.7267992835513897,\n",
            "    \"mean_squared_error\": 252.0106730361228,\n",
            "    \"median_absolute_error\": 10.295998573303223\n",
            "}\n"
          ],
          "name": "stderr"
        }
      ]
    },
    {
      "cell_type": "code",
      "metadata": {
        "id": "17EE2w1mhl9v",
        "colab_type": "code",
        "colab": {
          "base_uri": "https://localhost:8080/",
          "height": 34
        },
        "outputId": "6f7cf415-a7d7-4f6e-9e82-e269791c2a44"
      },
      "source": [
        "train_data = task.Dataset(file_path='train.csv')\n",
        "train_data = train_data.drop('spread_target', axis=1) # use for classifier"
      ],
      "execution_count": 40,
      "outputs": [
        {
          "output_type": "stream",
          "text": [
            "Loaded data from: train.csv | Columns = 434 / 434 | Rows = 4729 -> 4729\n"
          ],
          "name": "stderr"
        }
      ]
    },
    {
      "cell_type": "code",
      "metadata": {
        "id": "VeIhpiUIh0WO",
        "colab_type": "code",
        "colab": {}
      },
      "source": [
        "train_data = pd.concat([train_data, pd.Series(y_train_pred, name='spread_pred')], axis=1)"
      ],
      "execution_count": 52,
      "outputs": []
    },
    {
      "cell_type": "code",
      "metadata": {
        "id": "ubRJY_izoptJ",
        "colab_type": "code",
        "colab": {}
      },
      "source": [
        "label_column = 'spread_result' # use for classifier"
      ],
      "execution_count": 53,
      "outputs": []
    },
    {
      "cell_type": "code",
      "metadata": {
        "id": "yrAblA5Eor29",
        "colab_type": "code",
        "colab": {
          "base_uri": "https://localhost:8080/",
          "height": 1000
        },
        "outputId": "df516006-bcab-4c6f-aa42-5e5eaa80ef54"
      },
      "source": [
        "predictor = task.fit(train_data=train_data, label=label_column, problem_type = 'binary')"
      ],
      "execution_count": 54,
      "outputs": [
        {
          "output_type": "stream",
          "text": [
            "No output_directory specified. Models will be saved in: AutogluonModels/ag-20200919_043727/\n",
            "Beginning AutoGluon training ...\n",
            "AutoGluon will save models to AutogluonModels/ag-20200919_043727/\n",
            "AutoGluon Version:  0.0.13\n",
            "Train Data Rows:    4729\n",
            "Train Data Columns: 434\n",
            "Preprocessing data ...\n",
            "Selected class <--> label mapping:  class 1 = Away, class 0 = Home\n",
            "Train Data Class Count: 2\n",
            "Feature Generator processed 4729 data points with 433 features\n",
            "Original Features (raw dtypes):\n",
            "\tint64 features: 4\n",
            "\tobject features: 7\n",
            "\tbool features: 2\n",
            "\tfloat64 features: 419\n",
            "\tfloat32 features: 1\n",
            "Original Features (inferred dtypes):\n",
            "\tint features: 4\n",
            "\tobject features: 6\n",
            "\tdatetime features: 1\n",
            "\tbool features: 2\n",
            "\tfloat features: 420\n",
            "Generated Features (special dtypes):\n",
            "\tdatetime features: 1\n",
            "Processed Features (raw dtypes):\n",
            "\tint features: 5\n",
            "\tbool features: 2\n",
            "\tfloat features: 420\n",
            "\tcategory features: 6\n",
            "Processed Features:\n",
            "\tdatetime features: 1\n",
            "\tint features: 4\n",
            "\tbool features: 2\n",
            "\tfloat features: 420\n",
            "\tcategory features: 6\n",
            "\tData preprocessing and feature engineering runtime = 1.23s ...\n",
            "AutoGluon will gauge predictive performance using evaluation metric: accuracy\n",
            "To change this, specify the eval_metric argument of fit()\n",
            "AutoGluon will early stop models using evaluation metric: accuracy\n",
            "Fitting model: RandomForestClassifierGini ...\n",
            "\t0.662\t = Validation accuracy score\n",
            "\t11.85s\t = Training runtime\n",
            "\t0.28s\t = Validation runtime\n",
            "Fitting model: RandomForestClassifierEntr ...\n",
            "\t0.68\t = Validation accuracy score\n",
            "\t20.55s\t = Training runtime\n",
            "\t0.29s\t = Validation runtime\n",
            "Fitting model: ExtraTreesClassifierGini ...\n",
            "\t0.568\t = Validation accuracy score\n",
            "\t5.45s\t = Training runtime\n",
            "\t0.29s\t = Validation runtime\n",
            "Fitting model: ExtraTreesClassifierEntr ...\n",
            "\t0.6\t = Validation accuracy score\n",
            "\t6.32s\t = Training runtime\n",
            "\t0.3s\t = Validation runtime\n",
            "Fitting model: KNeighborsClassifierUnif ...\n",
            "\t0.51\t = Validation accuracy score\n",
            "\t0.4s\t = Training runtime\n",
            "\t0.12s\t = Validation runtime\n",
            "Fitting model: KNeighborsClassifierDist ...\n",
            "\t0.468\t = Validation accuracy score\n",
            "\t0.4s\t = Training runtime\n",
            "\t0.12s\t = Validation runtime\n",
            "Fitting model: LightGBMClassifier ...\n",
            "\t0.9\t = Validation accuracy score\n",
            "\t19.14s\t = Training runtime\n",
            "\t0.09s\t = Validation runtime\n",
            "Fitting model: CatboostClassifier ...\n",
            "\t0.902\t = Validation accuracy score\n",
            "\t20.32s\t = Training runtime\n",
            "\t0.11s\t = Validation runtime\n",
            "Fitting model: NeuralNetClassifier ...\n",
            "\t0.654\t = Validation accuracy score\n",
            "\t60.48s\t = Training runtime\n",
            "\t0.16s\t = Validation runtime\n",
            "Fitting model: LightGBMClassifierCustom ...\n",
            "\t0.892\t = Validation accuracy score\n",
            "\t139.48s\t = Training runtime\n",
            "\t0.1s\t = Validation runtime\n",
            "Fitting model: weighted_ensemble_k0_l1 ...\n",
            "\t0.908\t = Validation accuracy score\n",
            "\t0.65s\t = Training runtime\n",
            "\t0.0s\t = Validation runtime\n",
            "AutoGluon training complete, total runtime = 291.1s ...\n"
          ],
          "name": "stderr"
        }
      ]
    },
    {
      "cell_type": "code",
      "metadata": {
        "id": "jkWzn4rqpcKs",
        "colab_type": "code",
        "colab": {}
      },
      "source": [
        ""
      ],
      "execution_count": null,
      "outputs": []
    }
  ]
}